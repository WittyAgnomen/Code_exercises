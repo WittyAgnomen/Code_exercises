{
 "cells": [
  {
   "cell_type": "markdown",
   "metadata": {},
   "source": [
    "# Codility Exercises\n",
    "\n",
    "This notebook serves as a solution guide (one possible implementation of a solution) to the Codility lessons' exercises. These answers were scored 100% by codility, but by no means are they the only or even best possible answers to the exercises. The strucure of this notebook will be in lesson order. The code will be commented to aid in understanding the solution, and questions will not be posted because of copyright rules. However, you can find the questions om the Codility site <a href=\"https://codility.com/programmers/lessons/\">here</a>. Happy Exploring!\n",
    "\n",
    "## Lesson 1 Iterations\n",
    "\n",
    "### Binary Gap\n",
    "\n",
    "\n",
    "\n"
   ]
  },
  {
   "cell_type": "code",
   "execution_count": 1,
   "metadata": {
    "collapsed": true
   },
   "outputs": [],
   "source": [
    "def solution(N):\n",
    "    # remove beginning and trialing 0s in binary string\n",
    "    binstring=bin(N)[2:].strip('0')\n",
    "    # split into list on 1s\n",
    "    bin1s=str(binstring).split('1')\n",
    "    # return largest gap\n",
    "    return len(max(bin1s))"
   ]
  },
  {
   "cell_type": "code",
   "execution_count": 2,
   "metadata": {
    "collapsed": false
   },
   "outputs": [
    {
     "name": "stdout",
     "output_type": "stream",
     "text": [
      "0b1100000000000000000000000000001\n"
     ]
    },
    {
     "data": {
      "text/plain": [
       "28"
      ]
     },
     "execution_count": 2,
     "metadata": {},
     "output_type": "execute_result"
    }
   ],
   "source": [
    "#print binary version of 1610612737\n",
    "print bin(1610612737)\n",
    "\n",
    "#test the function\n",
    "solution(1610612737)"
   ]
  },
  {
   "cell_type": "markdown",
   "metadata": {},
   "source": [
    "## Lesson 2 Arrays\n",
    "\n",
    "### Cyclic Rotation"
   ]
  },
  {
   "cell_type": "code",
   "execution_count": 3,
   "metadata": {
    "collapsed": false
   },
   "outputs": [],
   "source": [
    "def solution(A, K):\n",
    "    #get the rotaion if more than the len of array \n",
    "    #(meaning rotated all the way through and start over)\n",
    "    r=K%len(A) if len(A)!=0 else 0\n",
    "    #return the non rotated portion and append the rotated portion\n",
    "    return A[len(A)-r::]+A[0:len(A)-r]"
   ]
  },
  {
   "cell_type": "code",
   "execution_count": 4,
   "metadata": {
    "collapsed": false
   },
   "outputs": [
    {
     "name": "stdout",
     "output_type": "stream",
     "text": [
      "[7, 6, 3, 8, 9]\n"
     ]
    }
   ],
   "source": [
    "print solution([3, 8, 9, 7, 6], 2)"
   ]
  },
  {
   "cell_type": "markdown",
   "metadata": {},
   "source": [
    "### Odd Occurrences In Array\n",
    "\n",
    "This problem is going to to use binary xor, read <a href=\"http://www.tutorialspoint.com/python/python_basic_operators.htm\">this</a> if you are unfamilar (Specifically the Python Bitwise Operators Section)."
   ]
  },
  {
   "cell_type": "code",
   "execution_count": 5,
   "metadata": {
    "collapsed": true
   },
   "outputs": [],
   "source": [
    "def solution(A):\n",
    "    #set only to 0\n",
    "    only = 0\n",
    "    #loop through each number in array, note x xor x is 0 and y xor 0 is y\n",
    "    for number in A:\n",
    "        only ^= number \n",
    "    return only"
   ]
  },
  {
   "cell_type": "code",
   "execution_count": 6,
   "metadata": {
    "collapsed": false
   },
   "outputs": [
    {
     "data": {
      "text/plain": [
       "7"
      ]
     },
     "execution_count": 6,
     "metadata": {},
     "output_type": "execute_result"
    }
   ],
   "source": [
    "solution([ 9,3,9,3,9,7,9])"
   ]
  },
  {
   "cell_type": "markdown",
   "metadata": {},
   "source": [
    "## Time Complexity\n",
    "\n",
    "### Frog Jmp"
   ]
  },
  {
   "cell_type": "code",
   "execution_count": 7,
   "metadata": {
    "collapsed": true
   },
   "outputs": [],
   "source": [
    "def solution(X, Y, D):\n",
    "    import math\n",
    "    if Y < X or D <= 0:\n",
    "        raise Exception(\"Invalid arguments\")\n",
    "    return int(math.ceil(float(Y-X)/float(D)))"
   ]
  },
  {
   "cell_type": "code",
   "execution_count": 8,
   "metadata": {
    "collapsed": false
   },
   "outputs": [
    {
     "data": {
      "text/plain": [
       "2"
      ]
     },
     "execution_count": 8,
     "metadata": {},
     "output_type": "execute_result"
    }
   ],
   "source": [
    "solution(10,70, 30)"
   ]
  },
  {
   "cell_type": "markdown",
   "metadata": {},
   "source": [
    "### Perm Missing Elem"
   ]
  },
  {
   "cell_type": "code",
   "execution_count": 9,
   "metadata": {
    "collapsed": true
   },
   "outputs": [],
   "source": [
    "def solution(A):\n",
    "    sumA=sum(A) #get sum of A\n",
    "    #this is the n+1 value + sum of 1 to n, technically 0 to N, same thing\n",
    "    sum_no_missing=len(A)+1+sum(range(len(A)+1))\n",
    "    return sum_no_missing-sumA"
   ]
  },
  {
   "cell_type": "code",
   "execution_count": 10,
   "metadata": {
    "collapsed": false
   },
   "outputs": [
    {
     "data": {
      "text/plain": [
       "19"
      ]
     },
     "execution_count": 10,
     "metadata": {},
     "output_type": "execute_result"
    }
   ],
   "source": [
    "solution([ 1, 2, 3, 4, 5, 6, 7, 8, 9, 10, 11, 12, 13, 14, 15, 16, 17, 18, 20])"
   ]
  },
  {
   "cell_type": "markdown",
   "metadata": {},
   "source": [
    "### Tape Equilibrium"
   ]
  },
  {
   "cell_type": "code",
   "execution_count": 11,
   "metadata": {
    "collapsed": false
   },
   "outputs": [],
   "source": [
    "#fails time constraint\n",
    "def solution(A):\n",
    "    lowest=abs(sum(A[0:1])-sum(A[1::]))\n",
    "    for P in range(1,len(A)):\n",
    "        test=abs(sum(A[0:P])-sum(A[P::]))\n",
    "        if test<lowest:\n",
    "            lowest=test\n",
    "    return lowest"
   ]
  },
  {
   "cell_type": "code",
   "execution_count": 12,
   "metadata": {
    "collapsed": true
   },
   "outputs": [],
   "source": [
    "import sys\n",
    " \n",
    "def solution(A):\n",
    "    #1st pass\n",
    "    cumsum = [0] * len(A) #assign an array of zeros of len(A)\n",
    "    cumsum[0] = A[0] #assing cumsum[0] sum of 0..P-1, this case just sum of 0\n",
    "    #loop over the rest of A\n",
    "    for P in xrange(1, len(A)):\n",
    "        cumsum[P] = A[P] + cumsum[P-1] #just fill in cumulative sum\n",
    "    #2nd pass\n",
    "    sol = sys.maxint #set as largest possible int\n",
    "    #loop through getting abs diffrences, keep lowest\n",
    "    for P in xrange(len(cumsum)-1):\n",
    "        #sum(1..p-1)-sum(p..n) is sum(1..p-1)-[sum(1..n)-sum(1..p-1)],mult by neg 1 then abs\n",
    "        sol = min(sol,abs(cumsum[-1] - 2 * cumsum[P]));  \n",
    "    return sol"
   ]
  },
  {
   "cell_type": "code",
   "execution_count": 13,
   "metadata": {
    "collapsed": false
   },
   "outputs": [
    {
     "data": {
      "text/plain": [
       "1"
      ]
     },
     "execution_count": 13,
     "metadata": {},
     "output_type": "execute_result"
    }
   ],
   "source": [
    "solution([3,1,2,4,3])"
   ]
  },
  {
   "cell_type": "markdown",
   "metadata": {},
   "source": [
    "## Counting Elements\n",
    "\n",
    "### Frog River One"
   ]
  },
  {
   "cell_type": "code",
   "execution_count": 14,
   "metadata": {
    "collapsed": true
   },
   "outputs": [],
   "source": [
    "def solution(X, A):\n",
    "    s = set() #store only unique positions\n",
    "    for i in xrange(len(A)):\n",
    "        if A[i] <= X: #Add leaf position if matters\n",
    "             s.add(A[i])\n",
    "        if len(s) == X: #By this time s = {X,...,4,3,2,1}\n",
    "            return i\n",
    "    return -1"
   ]
  },
  {
   "cell_type": "code",
   "execution_count": 15,
   "metadata": {
    "collapsed": false
   },
   "outputs": [
    {
     "data": {
      "text/plain": [
       "6"
      ]
     },
     "execution_count": 15,
     "metadata": {},
     "output_type": "execute_result"
    }
   ],
   "source": [
    "solution(5, [1,3,1,4,2,3,5,4])"
   ]
  },
  {
   "cell_type": "markdown",
   "metadata": {
    "collapsed": true
   },
   "source": [
    "### Missing Integer"
   ]
  },
  {
   "cell_type": "code",
   "execution_count": 16,
   "metadata": {
    "collapsed": true
   },
   "outputs": [],
   "source": [
    "def solution(A):\n",
    "    seen = [False] * len(A) #array to store whether int has been seen\n",
    "    for value in A:\n",
    "        if 0 < value <= len(A): #value is in range\n",
    "            seen[value-1] = True #return that we sae\n",
    "    #return first int we didnt see\n",
    "    for i in xrange(len(seen)):\n",
    "        if seen[i] == False:\n",
    "            return i + 1\n",
    "    #return number larger than array if we saw all numbers\n",
    "    return len(A)+1"
   ]
  },
  {
   "cell_type": "code",
   "execution_count": 17,
   "metadata": {
    "collapsed": false
   },
   "outputs": [
    {
     "data": {
      "text/plain": [
       "7"
      ]
     },
     "execution_count": 17,
     "metadata": {},
     "output_type": "execute_result"
    }
   ],
   "source": [
    "solution([1,3,6,4,1,2,-1,5,8])"
   ]
  },
  {
   "cell_type": "markdown",
   "metadata": {},
   "source": [
    "### Max Counters"
   ]
  },
  {
   "cell_type": "code",
   "execution_count": 18,
   "metadata": {
    "collapsed": true
   },
   "outputs": [],
   "source": [
    "#correct but fails speed requirement\n",
    "def solution(N,A):\n",
    "    arr=[0]*N #initilize array to gold counters\n",
    "    for v in A:\n",
    "        if 0<v<=N:\n",
    "            arr[v-1]+=1\n",
    "        if v>N:\n",
    "            arr=[max(arr)]*N\n",
    "    return arr"
   ]
  },
  {
   "cell_type": "code",
   "execution_count": 19,
   "metadata": {
    "collapsed": false
   },
   "outputs": [
    {
     "data": {
      "text/plain": [
       "[1]"
      ]
     },
     "execution_count": 19,
     "metadata": {},
     "output_type": "execute_result"
    }
   ],
   "source": [
    "solution(1,[1])"
   ]
  },
  {
   "cell_type": "markdown",
   "metadata": {},
   "source": [
    "## Prefix Sums\n",
    "\n",
    "### Passing Cars"
   ]
  },
  {
   "cell_type": "code",
   "execution_count": 20,
   "metadata": {
    "collapsed": true
   },
   "outputs": [],
   "source": [
    "def solution(A):\n",
    "    west_cars=0\n",
    "    cnt_pass=0\n",
    "    # grab an eastbound car and count all west it saw\n",
    "    for car in xrange(len(A)-1,-1,-1): #start at end of list\n",
    "        if A[car]==0:\n",
    "            cnt_pass+=west_cars\n",
    "            if cnt_pass >1000000000:\n",
    "                return -1\n",
    "        else:\n",
    "            west_cars += 1 #count west cars\n",
    "    return cnt_pass"
   ]
  },
  {
   "cell_type": "code",
   "execution_count": 21,
   "metadata": {
    "collapsed": false
   },
   "outputs": [
    {
     "data": {
      "text/plain": [
       "5"
      ]
     },
     "execution_count": 21,
     "metadata": {},
     "output_type": "execute_result"
    }
   ],
   "source": [
    "solution([0,1,0,1,1])"
   ]
  },
  {
   "cell_type": "markdown",
   "metadata": {},
   "source": [
    "### Min Avg Two Slice"
   ]
  },
  {
   "cell_type": "code",
   "execution_count": 22,
   "metadata": {
    "collapsed": true
   },
   "outputs": [],
   "source": [
    "def solution(A):\n",
    "    min_loc = 0\n",
    "    min_value = 100000 #set a highest possible allowed\n",
    "    # slice can only be 2 or 3 any bigger would be the same as one of these\n",
    "    for sloc in xrange(0, len(A)-1):\n",
    "        #check 2 piece slice\n",
    "        if (A[sloc] + A[sloc+1])/2.0 < min_value:\n",
    "            min_loc = sloc\n",
    "            min_value = (A[sloc] + A[sloc+1])/2.0\n",
    "        #check 3 piece slice\n",
    "        if sloc < len(A)-2 and (A[sloc] + A[sloc+1] + A[sloc+2])/3.0 < min_value:\n",
    "            min_loc = sloc\n",
    "            min_value = (A[sloc] + A[sloc+1] + A[sloc+2])/3.0\n",
    "    return min_loc"
   ]
  },
  {
   "cell_type": "code",
   "execution_count": 23,
   "metadata": {
    "collapsed": false
   },
   "outputs": [
    {
     "data": {
      "text/plain": [
       "1"
      ]
     },
     "execution_count": 23,
     "metadata": {},
     "output_type": "execute_result"
    }
   ],
   "source": [
    "solution([4,2,2,5,1,5,8])"
   ]
  },
  {
   "cell_type": "markdown",
   "metadata": {},
   "source": [
    "## Sorting\n",
    "\n",
    "### Distinct"
   ]
  },
  {
   "cell_type": "code",
   "execution_count": 24,
   "metadata": {
    "collapsed": true
   },
   "outputs": [],
   "source": [
    "def solution(A):\n",
    "    s=set(A)\n",
    "    return len(s)"
   ]
  },
  {
   "cell_type": "markdown",
   "metadata": {},
   "source": [
    "### Number Of Disc Intersections"
   ]
  },
  {
   "cell_type": "code",
   "execution_count": 25,
   "metadata": {
    "collapsed": true
   },
   "outputs": [],
   "source": [
    "def solution(A):\n",
    "    events=[]\n",
    "    for i, a in enumerate(A):\n",
    "        events += [(i-a, +1), (i+a, -1)]  \n",
    "    events.sort(key=lambda x: (x[0], -x[1]))\n",
    "    intersections, active_circles = 0, 0\n",
    "    for _, circle_count_delta in events:\n",
    "        intersections += active_circles * (circle_count_delta > 0)\n",
    "        active_circles += circle_count_delta\n",
    "        if intersections > 10E6:\n",
    "            return -1\n",
    "    return intersections"
   ]
  },
  {
   "cell_type": "code",
   "execution_count": 26,
   "metadata": {
    "collapsed": false
   },
   "outputs": [
    {
     "data": {
      "text/plain": [
       "11"
      ]
     },
     "execution_count": 26,
     "metadata": {},
     "output_type": "execute_result"
    }
   ],
   "source": [
    "A=[1,5,2,1,4,0]\n",
    "solution(A)"
   ]
  },
  {
   "cell_type": "markdown",
   "metadata": {},
   "source": [
    "### TBC"
   ]
  },
  {
   "cell_type": "code",
   "execution_count": 27,
   "metadata": {
    "collapsed": true
   },
   "outputs": [],
   "source": [
    "def solution(A):\n",
    "    A.sort()\n",
    "    return max(A[-1]*A[-2]*A[-3] , A[0]*A[1]*A[-1])"
   ]
  },
  {
   "cell_type": "markdown",
   "metadata": {},
   "source": [
    "### TBC"
   ]
  },
  {
   "cell_type": "code",
   "execution_count": 28,
   "metadata": {
    "collapsed": true
   },
   "outputs": [],
   "source": [
    "#triangle\n",
    "def solution(A):\n",
    "    A.sort()\n",
    "    for s in xrange(len(A)-2):\n",
    "        if A[s]+A[s+1]>A[s+2]:\n",
    "            return 1       \n",
    "    return 0"
   ]
  },
  {
   "cell_type": "markdown",
   "metadata": {},
   "source": [
    "## Stacks and Ques\n",
    "\n",
    "### Fish"
   ]
  },
  {
   "cell_type": "code",
   "execution_count": 29,
   "metadata": {
    "collapsed": true
   },
   "outputs": [],
   "source": [
    "def solution(A, B):\n",
    "    survivals = 0\n",
    "    stack = []\n",
    "     \n",
    "    for idx in xrange(len(A)):\n",
    "        if B[idx] == 0:\n",
    "            while len(stack) != 0:\n",
    "                if stack[-1] > A[idx]:\n",
    "                    break\n",
    "                else:\n",
    "                    stack.pop()\n",
    "                         \n",
    "            else:\n",
    "                survivals += 1\n",
    "        else:\n",
    "            stack.append(A[idx])\n",
    "        print stack\n",
    "             \n",
    "    survivals += len(stack)\n",
    "     \n",
    "    return survivals"
   ]
  },
  {
   "cell_type": "code",
   "execution_count": 30,
   "metadata": {
    "collapsed": false
   },
   "outputs": [
    {
     "name": "stdout",
     "output_type": "stream",
     "text": [
      "[]\n",
      "[3]\n",
      "[3, 2]\n",
      "[3, 2]\n",
      "[]\n"
     ]
    },
    {
     "data": {
      "text/plain": [
       "2"
      ]
     },
     "execution_count": 30,
     "metadata": {},
     "output_type": "execute_result"
    }
   ],
   "source": [
    "A=[4,3,2,1,5]\n",
    "B=[0,1,2,0,0]\n",
    "\n",
    "solution(A,B)"
   ]
  },
  {
   "cell_type": "markdown",
   "metadata": {},
   "source": [
    "### Brackets"
   ]
  },
  {
   "cell_type": "code",
   "execution_count": 31,
   "metadata": {
    "collapsed": true
   },
   "outputs": [],
   "source": [
    "def isValidPair(left, right):\n",
    "    if left == '(' and right == ')':\n",
    "        return True\n",
    "    if left == '[' and right == ']':\n",
    "        return True \n",
    "    if left == '{' and right == '}':\n",
    "        return True   \n",
    "    return False\n",
    " \n",
    "def solution(S):\n",
    "    stack = []\n",
    "     \n",
    "    for symbol in S:\n",
    "        if symbol == '[' or symbol == '{' or symbol == '(':\n",
    "            stack.append(symbol)\n",
    "        \n",
    "        else:\n",
    "            if len(stack) == 0:\n",
    "                return 0\n",
    "            last = stack.pop()\n",
    "            if not isValidPair(last, symbol):\n",
    "                return 0\n",
    "     \n",
    "        print stack\n",
    "    if len(stack) != 0:\n",
    "        return 0\n",
    "             \n",
    "    return 1"
   ]
  },
  {
   "cell_type": "code",
   "execution_count": 32,
   "metadata": {
    "collapsed": false
   },
   "outputs": [
    {
     "name": "stdout",
     "output_type": "stream",
     "text": [
      "['{']\n",
      "['{', '[']\n",
      "['{', '[', '(']\n",
      "['{', '[']\n",
      "['{']\n",
      "[]\n",
      "['{']\n",
      "[]\n"
     ]
    },
    {
     "data": {
      "text/plain": [
       "1"
      ]
     },
     "execution_count": 32,
     "metadata": {},
     "output_type": "execute_result"
    }
   ],
   "source": [
    "solution(\"{[()]}{}\")"
   ]
  },
  {
   "cell_type": "code",
   "execution_count": 33,
   "metadata": {
    "collapsed": true
   },
   "outputs": [],
   "source": [
    "#nested\n",
    "def solution(S):\n",
    "    leftBrackets = 0\n",
    "     \n",
    "    for symbol in S:\n",
    "        if symbol == '(':\n",
    "            leftBrackets += 1\n",
    "        else:\n",
    "            if leftBrackets == 0:\n",
    "                return 0\n",
    "            leftBrackets -= 1 \n",
    "     \n",
    "    if leftBrackets != 0:\n",
    "        return 0\n",
    "     \n",
    "    return 1"
   ]
  },
  {
   "cell_type": "code",
   "execution_count": 34,
   "metadata": {
    "collapsed": false
   },
   "outputs": [
    {
     "data": {
      "text/plain": [
       "1"
      ]
     },
     "execution_count": 34,
     "metadata": {},
     "output_type": "execute_result"
    }
   ],
   "source": [
    "solution(\"(()(())())\")"
   ]
  },
  {
   "cell_type": "markdown",
   "metadata": {},
   "source": [
    "## Some Others\n",
    "\n",
    "### Number of perfect squares between two given numbers"
   ]
  },
  {
   "cell_type": "code",
   "execution_count": 35,
   "metadata": {
    "collapsed": true
   },
   "outputs": [],
   "source": [
    "import math\n",
    "def CountSquares(a,b):\n",
    "    if b<=0:\n",
    "        return 0\n",
    "    if a<0:\n",
    "        return int(math.floor(math.sqrt(b)) - math.ceil(math.sqrt(0)) + 1)\n",
    "    return int(math.floor(math.sqrt(b)) - math.ceil(math.sqrt(a)) + 1)"
   ]
  },
  {
   "cell_type": "code",
   "execution_count": 36,
   "metadata": {
    "collapsed": false
   },
   "outputs": [
    {
     "data": {
      "text/plain": [
       "3"
      ]
     },
     "execution_count": 36,
     "metadata": {},
     "output_type": "execute_result"
    }
   ],
   "source": [
    "CountSquares(1,10)"
   ]
  },
  {
   "cell_type": "markdown",
   "metadata": {},
   "source": [
    "### "
   ]
  },
  {
   "cell_type": "code",
   "execution_count": 37,
   "metadata": {
    "collapsed": true
   },
   "outputs": [],
   "source": [
    "def solution(s):\n",
    "    s=s.replace('?','.').replace('!','.').split('.')\n",
    "    count=[len(sentence.split()) for sentence in s]\n",
    "    return max(count)"
   ]
  },
  {
   "cell_type": "code",
   "execution_count": 38,
   "metadata": {
    "collapsed": false
   },
   "outputs": [
    {
     "data": {
      "text/plain": [
       "0"
      ]
     },
     "execution_count": 38,
     "metadata": {},
     "output_type": "execute_result"
    }
   ],
   "source": [
    "solution(' ')"
   ]
  },
  {
   "cell_type": "code",
   "execution_count": 39,
   "metadata": {
    "collapsed": false
   },
   "outputs": [
    {
     "data": {
      "text/plain": [
       "2"
      ]
     },
     "execution_count": 39,
     "metadata": {},
     "output_type": "execute_result"
    }
   ],
   "source": [
    "solution('Forget  CVs..Save time . x x')"
   ]
  }
 ],
 "metadata": {
  "kernelspec": {
   "display_name": "Python [dato-env]",
   "language": "python",
   "name": "Python [dato-env]"
  },
  "language_info": {
   "codemirror_mode": {
    "name": "ipython",
    "version": 2
   },
   "file_extension": ".py",
   "mimetype": "text/x-python",
   "name": "python",
   "nbconvert_exporter": "python",
   "pygments_lexer": "ipython2",
   "version": "2.7.12"
  }
 },
 "nbformat": 4,
 "nbformat_minor": 0
}
